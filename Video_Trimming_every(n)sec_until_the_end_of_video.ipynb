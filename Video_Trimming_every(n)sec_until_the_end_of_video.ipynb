{
  "cells": [
    {
      "cell_type": "markdown",
      "metadata": {
        "id": "view-in-github",
        "colab_type": "text"
      },
      "source": [
        "<a href=\"https://colab.research.google.com/github/aminrezaei-img/opencv/blob/master/Video_Trimming_every(n)sec_until_the_end_of_video.ipynb\" target=\"_parent\"><img src=\"https://colab.research.google.com/assets/colab-badge.svg\" alt=\"Open In Colab\"/></a>"
      ]
    },
    {
      "cell_type": "code",
      "execution_count": null,
      "metadata": {
        "id": "_sypQSJtJDGq"
      },
      "outputs": [],
      "source": [
        "import cv2\n",
        "import os\n",
        "import shutil\n",
        "\n",
        "# compresses the video \n",
        "from moviepy.editor import VideoFileClip \n",
        "\n",
        "# does not compress the video - no alternation in the original file \n",
        "from moviepy.video.io.ffmpeg_tools import ffmpeg_extract_subclip\n",
        "\n",
        "# directory creating related \n",
        "from pathlib import Path"
      ]
    },
    {
      "cell_type": "code",
      "execution_count": null,
      "metadata": {
        "id": "vAz_5iLKJDGt",
        "outputId": "52979556-1c74-48f2-9e33-5d040729b11d"
      },
      "outputs": [
        {
          "name": "stdout",
          "output_type": "stream",
          "text": [
            "Continuous 10 second trimming will start at 0 seconds and will end at 230.68 seconds...\n",
            "Expected number of videos:  23.068 in total.\n"
          ]
        }
      ],
      "source": [
        "vid=\"C:\\\\University 2nd Year\\\\Thesis Mar 2022\\\\Public datasets\\\\LGI-PPGI-DB\\\\id3\\\\cpi\\\\cpi_gym\\\\cv_camera_sensor_stream_handler.avi\"\n",
        "\n",
        "clip = VideoFileClip(vid)\n",
        "vid_length = clip.duration\n",
        "\n",
        "start_time = 0\n",
        "end_time = input()\n",
        "\n",
        "print (\"Continuous\",end_time, \"second trimming will start at\", start_time, \"seconds and will end at\", vid_length, \"seconds...\")\n",
        "print (\"Expected number of videos: \", clip.duration/end_time, \"in total.\")"
      ]
    },
    {
      "cell_type": "code",
      "execution_count": null,
      "metadata": {
        "id": "evrILKPMJDGu"
      },
      "outputs": [],
      "source": [
        "# video name\n",
        "vid_name= os.path.basename(vid)\n",
        "\n",
        "# video directory \n",
        "vid_dir = os.path.dirname(vid)\n",
        "\n",
        "# Output folder \n",
        "folder_name = Path(vid).stem # to get the file name without the extension\n",
        "vid_out_path = vid_dir+\"\\\\\"+folder_name+\"\\\\\"\n"
      ]
    },
    {
      "cell_type": "code",
      "execution_count": null,
      "metadata": {
        "id": "qeuCAHX0JDGv",
        "outputId": "775d9f45-a3cd-44dd-aac5-15e820ed8c41"
      },
      "outputs": [
        {
          "name": "stdout",
          "output_type": "stream",
          "text": [
            "================================================================================\n",
            "ǁ Loaded video name : \n",
            " cv_camera_sensor_stream_handler.avi\n",
            "================================================================================\n",
            "ǁ Loaded video directory : \n",
            " C:\\University 2nd Year\\Thesis Mar 2022\\Public datasets\\LGI-PPGI-DB\\id3\\cpi\\cpi_gym\n",
            "================================================================================\n",
            "ǁ Output video folder name :\n",
            " cv_camera_sensor_stream_handler\n",
            "================================================================================\n",
            "ǁ Output video path :\n",
            " C:\\University 2nd Year\\Thesis Mar 2022\\Public datasets\\LGI-PPGI-DB\\id3\\cpi\\cpi_gym\\cv_camera_sensor_stream_handler\\\n",
            "================================================================================\n"
          ]
        }
      ],
      "source": [
        "print (\"================================================================================\")\n",
        "print (\"ǁ Loaded video name : \\n\", vid_name)\n",
        "print (\"================================================================================\")\n",
        "print (\"ǁ Loaded video directory : \\n\", vid_dir)\n",
        "print (\"================================================================================\")\n",
        "print (\"ǁ Output video folder name :\\n\",folder_name)\n",
        "print (\"================================================================================\")\n",
        "print (\"ǁ Output video path :\\n\",vid_out_path)\n",
        "print (\"================================================================================\")"
      ]
    },
    {
      "cell_type": "code",
      "execution_count": null,
      "metadata": {
        "id": "TtYjLV8TJDGw",
        "outputId": "982164c4-1982-4695-ba0f-daca5a14dd42"
      },
      "outputs": [
        {
          "name": "stdout",
          "output_type": "stream",
          "text": [
            "A directory with a similar name has been removed and replaced with a new one!\n",
            "Directory 'cv_camera_sensor_stream_handler' created...\n"
          ]
        }
      ],
      "source": [
        "# creating the output video directory \n",
        "if os.path.exists(vid_out_path):\n",
        "  print (\"A directory with a similar name has been removed and replaced with a new one!\")\n",
        "  shutil.rmtree(vid_out_path)\n",
        "os.makedirs(vid_out_path)\n",
        "\n",
        "print(\"Directory '%s' created...\" %folder_name)"
      ]
    },
    {
      "cell_type": "code",
      "execution_count": null,
      "metadata": {
        "id": "gwNpBzSuJDGw",
        "outputId": "4b165c0b-428f-42d7-ae0b-062852822fcc"
      },
      "outputs": [
        {
          "name": "stdout",
          "output_type": "stream",
          "text": [
            "C:/University 2nd Year/Thesis Mar 2022/Public datasets/LGI-PPGI-DB/id3/cpi/cpi_gym/cv_camera_sensor_stream_handler/0-10.avi\n"
          ]
        }
      ],
      "source": [
        "# naming the output vide\n",
        "out_vid_name = str(start_time) + \"-\" + str(end_time)\n",
        "targetname = os.path.join(vid_out_path + out_vid_name + \".avi\").replace(\"\\\\\",\"/\")\n",
        "print (targetname)"
      ]
    },
    {
      "cell_type": "code",
      "execution_count": null,
      "metadata": {
        "id": "1q_cdGlQJDGx"
      },
      "outputs": [],
      "source": [
        "def vid_trim(vid, start_time, end_time, targetname):\n",
        "\n",
        "    out_vid_name = str(start_time) + \"-\" + str(end_time)\n",
        "    targetname = os.path.join(vid_out_path + out_vid_name + \".avi\").replace(\"\\\\\",\"/\")\n",
        "\n",
        "    ffmpeg_extract_subclip(vid, start_time, end_time, targetname)\n",
        "    print(targetname)\n",
        "    \n",
        "    return start_time, end_time\n"
      ]
    },
    {
      "cell_type": "code",
      "execution_count": null,
      "metadata": {
        "id": "lPmIh8DXJDGx",
        "outputId": "bc84260e-2950-43ae-b938-c9d1551a78d3"
      },
      "outputs": [
        {
          "name": "stdout",
          "output_type": "stream",
          "text": [
            "Moviepy - Running:\n",
            ">>> \"+ \" \".join(cmd)\n",
            "Moviepy - Command successful\n",
            "C:/University 2nd Year/Thesis Mar 2022/Public datasets/LGI-PPGI-DB/id3/cpi/cpi_gym/cv_camera_sensor_stream_handler/10-20.avi\n",
            "new start:  10\n",
            "new end:  20\n",
            "================================================================================\n",
            "Moviepy - Running:\n",
            ">>> \"+ \" \".join(cmd)\n",
            "Moviepy - Command successful\n",
            "C:/University 2nd Year/Thesis Mar 2022/Public datasets/LGI-PPGI-DB/id3/cpi/cpi_gym/cv_camera_sensor_stream_handler/20-30.avi\n",
            "new start:  20\n",
            "new end:  30\n",
            "================================================================================\n",
            "Moviepy - Running:\n",
            ">>> \"+ \" \".join(cmd)\n",
            "Moviepy - Command successful\n",
            "C:/University 2nd Year/Thesis Mar 2022/Public datasets/LGI-PPGI-DB/id3/cpi/cpi_gym/cv_camera_sensor_stream_handler/30-40.avi\n",
            "new start:  30\n",
            "new end:  40\n",
            "================================================================================\n",
            "Moviepy - Running:\n",
            ">>> \"+ \" \".join(cmd)\n",
            "Moviepy - Command successful\n",
            "C:/University 2nd Year/Thesis Mar 2022/Public datasets/LGI-PPGI-DB/id3/cpi/cpi_gym/cv_camera_sensor_stream_handler/40-50.avi\n",
            "new start:  40\n",
            "new end:  50\n",
            "================================================================================\n",
            "Moviepy - Running:\n",
            ">>> \"+ \" \".join(cmd)\n",
            "Moviepy - Command successful\n",
            "C:/University 2nd Year/Thesis Mar 2022/Public datasets/LGI-PPGI-DB/id3/cpi/cpi_gym/cv_camera_sensor_stream_handler/50-60.avi\n",
            "new start:  50\n",
            "new end:  60\n",
            "================================================================================\n",
            "Moviepy - Running:\n",
            ">>> \"+ \" \".join(cmd)\n",
            "Moviepy - Command successful\n",
            "C:/University 2nd Year/Thesis Mar 2022/Public datasets/LGI-PPGI-DB/id3/cpi/cpi_gym/cv_camera_sensor_stream_handler/60-70.avi\n",
            "new start:  60\n",
            "new end:  70\n",
            "================================================================================\n",
            "Moviepy - Running:\n",
            ">>> \"+ \" \".join(cmd)\n",
            "Moviepy - Command successful\n",
            "C:/University 2nd Year/Thesis Mar 2022/Public datasets/LGI-PPGI-DB/id3/cpi/cpi_gym/cv_camera_sensor_stream_handler/70-80.avi\n",
            "new start:  70\n",
            "new end:  80\n",
            "================================================================================\n",
            "Moviepy - Running:\n",
            ">>> \"+ \" \".join(cmd)\n",
            "Moviepy - Command successful\n",
            "C:/University 2nd Year/Thesis Mar 2022/Public datasets/LGI-PPGI-DB/id3/cpi/cpi_gym/cv_camera_sensor_stream_handler/80-90.avi\n",
            "new start:  80\n",
            "new end:  90\n",
            "================================================================================\n",
            "Moviepy - Running:\n",
            ">>> \"+ \" \".join(cmd)\n",
            "Moviepy - Command successful\n",
            "C:/University 2nd Year/Thesis Mar 2022/Public datasets/LGI-PPGI-DB/id3/cpi/cpi_gym/cv_camera_sensor_stream_handler/90-100.avi\n",
            "new start:  90\n",
            "new end:  100\n",
            "================================================================================\n",
            "Moviepy - Running:\n",
            ">>> \"+ \" \".join(cmd)\n",
            "Moviepy - Command successful\n",
            "C:/University 2nd Year/Thesis Mar 2022/Public datasets/LGI-PPGI-DB/id3/cpi/cpi_gym/cv_camera_sensor_stream_handler/100-110.avi\n",
            "new start:  100\n",
            "new end:  110\n",
            "================================================================================\n",
            "Moviepy - Running:\n",
            ">>> \"+ \" \".join(cmd)\n",
            "Moviepy - Command successful\n",
            "C:/University 2nd Year/Thesis Mar 2022/Public datasets/LGI-PPGI-DB/id3/cpi/cpi_gym/cv_camera_sensor_stream_handler/110-120.avi\n",
            "new start:  110\n",
            "new end:  120\n",
            "================================================================================\n",
            "Moviepy - Running:\n",
            ">>> \"+ \" \".join(cmd)\n",
            "Moviepy - Command successful\n",
            "C:/University 2nd Year/Thesis Mar 2022/Public datasets/LGI-PPGI-DB/id3/cpi/cpi_gym/cv_camera_sensor_stream_handler/120-130.avi\n",
            "new start:  120\n",
            "new end:  130\n",
            "================================================================================\n",
            "Moviepy - Running:\n",
            ">>> \"+ \" \".join(cmd)\n",
            "Moviepy - Command successful\n",
            "C:/University 2nd Year/Thesis Mar 2022/Public datasets/LGI-PPGI-DB/id3/cpi/cpi_gym/cv_camera_sensor_stream_handler/130-140.avi\n",
            "new start:  130\n",
            "new end:  140\n",
            "================================================================================\n",
            "Moviepy - Running:\n",
            ">>> \"+ \" \".join(cmd)\n",
            "Moviepy - Command successful\n",
            "C:/University 2nd Year/Thesis Mar 2022/Public datasets/LGI-PPGI-DB/id3/cpi/cpi_gym/cv_camera_sensor_stream_handler/140-150.avi\n",
            "new start:  140\n",
            "new end:  150\n",
            "================================================================================\n",
            "Moviepy - Running:\n",
            ">>> \"+ \" \".join(cmd)\n",
            "Moviepy - Command successful\n",
            "C:/University 2nd Year/Thesis Mar 2022/Public datasets/LGI-PPGI-DB/id3/cpi/cpi_gym/cv_camera_sensor_stream_handler/150-160.avi\n",
            "new start:  150\n",
            "new end:  160\n",
            "================================================================================\n",
            "Moviepy - Running:\n",
            ">>> \"+ \" \".join(cmd)\n",
            "Moviepy - Command successful\n",
            "C:/University 2nd Year/Thesis Mar 2022/Public datasets/LGI-PPGI-DB/id3/cpi/cpi_gym/cv_camera_sensor_stream_handler/160-170.avi\n",
            "new start:  160\n",
            "new end:  170\n",
            "================================================================================\n",
            "Moviepy - Running:\n",
            ">>> \"+ \" \".join(cmd)\n",
            "Moviepy - Command successful\n",
            "C:/University 2nd Year/Thesis Mar 2022/Public datasets/LGI-PPGI-DB/id3/cpi/cpi_gym/cv_camera_sensor_stream_handler/170-180.avi\n",
            "new start:  170\n",
            "new end:  180\n",
            "================================================================================\n",
            "Moviepy - Running:\n",
            ">>> \"+ \" \".join(cmd)\n",
            "Moviepy - Command successful\n",
            "C:/University 2nd Year/Thesis Mar 2022/Public datasets/LGI-PPGI-DB/id3/cpi/cpi_gym/cv_camera_sensor_stream_handler/180-190.avi\n",
            "new start:  180\n",
            "new end:  190\n",
            "================================================================================\n",
            "Moviepy - Running:\n",
            ">>> \"+ \" \".join(cmd)\n",
            "Moviepy - Command successful\n",
            "C:/University 2nd Year/Thesis Mar 2022/Public datasets/LGI-PPGI-DB/id3/cpi/cpi_gym/cv_camera_sensor_stream_handler/190-200.avi\n",
            "new start:  190\n",
            "new end:  200\n",
            "================================================================================\n",
            "Moviepy - Running:\n",
            ">>> \"+ \" \".join(cmd)\n",
            "Moviepy - Command successful\n",
            "C:/University 2nd Year/Thesis Mar 2022/Public datasets/LGI-PPGI-DB/id3/cpi/cpi_gym/cv_camera_sensor_stream_handler/200-210.avi\n",
            "new start:  200\n",
            "new end:  210\n",
            "================================================================================\n",
            "Moviepy - Running:\n",
            ">>> \"+ \" \".join(cmd)\n",
            "Moviepy - Command successful\n",
            "C:/University 2nd Year/Thesis Mar 2022/Public datasets/LGI-PPGI-DB/id3/cpi/cpi_gym/cv_camera_sensor_stream_handler/210-220.avi\n",
            "new start:  210\n",
            "new end:  220\n",
            "================================================================================\n",
            "Moviepy - Running:\n",
            ">>> \"+ \" \".join(cmd)\n",
            "Moviepy - Command successful\n",
            "C:/University 2nd Year/Thesis Mar 2022/Public datasets/LGI-PPGI-DB/id3/cpi/cpi_gym/cv_camera_sensor_stream_handler/220-230.avi\n",
            "new start:  220\n",
            "new end:  230\n",
            "================================================================================\n",
            "Moviepy - Running:\n",
            ">>> \"+ \" \".join(cmd)\n",
            "Moviepy - Command successful\n",
            "C:/University 2nd Year/Thesis Mar 2022/Public datasets/LGI-PPGI-DB/id3/cpi/cpi_gym/cv_camera_sensor_stream_handler/230-240.avi\n",
            "new start:  230\n",
            "new end:  240\n",
            "================================================================================\n"
          ]
        }
      ],
      "source": [
        "while (end_time <= clip.duration):\n",
        "    start_time= end_time\n",
        "    end_time = end_time+10\n",
        "    vid_trim(vid, start_time, end_time, targetname)\n",
        "    print (\"new start: \",start_time)\n",
        "    print (\"new end: \", end_time )\n",
        "    print (\"================================================================================\")\n",
        "    if (end_time==clip.duration):\n",
        "        break"
      ]
    }
  ],
  "metadata": {
    "interpreter": {
      "hash": "9cd942a688fc9619b8911cd840a85ed286311aa433d813b2ba819a20a60e176c"
    },
    "kernelspec": {
      "display_name": "Python 3.10.2 64-bit",
      "language": "python",
      "name": "python3"
    },
    "language_info": {
      "codemirror_mode": {
        "name": "ipython",
        "version": 3
      },
      "file_extension": ".py",
      "mimetype": "text/x-python",
      "name": "python",
      "nbconvert_exporter": "python",
      "pygments_lexer": "ipython3",
      "version": "3.10.2"
    },
    "orig_nbformat": 4,
    "colab": {
      "name": "Video Trimming 10sec.ipynb",
      "provenance": [],
      "collapsed_sections": [],
      "include_colab_link": true
    }
  },
  "nbformat": 4,
  "nbformat_minor": 0
}